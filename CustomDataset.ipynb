{
 "cells": [
  {
   "cell_type": "code",
   "execution_count": 19,
   "metadata": {},
   "outputs": [],
   "source": [
    "import numpy as np \n",
    "from PIL import Image, ImageDraw\n",
    "import cv2\n",
    "import random\n",
    "import os"
   ]
  },
  {
   "cell_type": "code",
   "execution_count": 28,
   "metadata": {},
   "outputs": [],
   "source": [
    "imageDataset = 'Dataset/ImageDataset'\n",
    "maskDataset = 'Dataset/MaskDataset'\n",
    "\n",
    "os.makedirs(imageDataset, exist_ok=True)\n",
    "os.makedirs(maskDataset, exist_ok=True)\n",
    "\n",
    "image_size = (256, 256)\n",
    "background_color = (255, 255, 255)"
   ]
  },
  {
   "cell_type": "code",
   "execution_count": 29,
   "metadata": {},
   "outputs": [],
   "source": [
    "imageCircle = 'Dataset/ImageDataset/Circle'\n",
    "imageRectangle = 'Dataset/ImageDataset/Rectangle'\n",
    "imageTriangle = 'Dataset/ImageDataset/Triangle'\n",
    "\n",
    "maskCircle = 'Dataset/MaskDataset/Circle'\n",
    "maskRectangle = 'Dataset/MaskDataset/Rectangle'\n",
    "maskTriangle = 'Dataset/MaskDataset/Triangle'\n",
    "\n",
    "os.makedirs(imageCircle, exist_ok=True)\n",
    "os.makedirs(maskCircle, exist_ok=True)\n",
    "os.makedirs(imageRectangle, exist_ok=True)\n",
    "os.makedirs(maskRectangle, exist_ok=True)\n",
    "os.makedirs(imageTriangle, exist_ok=True)\n",
    "os.makedirs(maskTriangle, exist_ok=True)"
   ]
  },
  {
   "cell_type": "code",
   "execution_count": 4,
   "metadata": {},
   "outputs": [],
   "source": [
    "def MakeCircle(i):\n",
    "    image = Image.new('RGB', image_size, background_color)\n",
    "    draw = ImageDraw.Draw(image)\n",
    "\n",
    "    # Randomly geneate the parameters to draw the circle in the empty image \n",
    "    size = random.randint(50, 100)\n",
    "    position = (random.randint(0, image_size[0] - size), random.randint(0, image_size[1] - size))\n",
    "    color = tuple(random.randint(0, 255) for _ in range(3))\n",
    "\n",
    "    draw.ellipse([position, (position[0]+size, position[1]+size)], color)\n",
    "    image.save(os.path.join(imageCircle, f'circleimage{i}.png'))"
   ]
  },
  {
   "cell_type": "code",
   "execution_count": 5,
   "metadata": {},
   "outputs": [],
   "source": [
    "def MakeRectangle(i):\n",
    "    image = Image.new('RGB', image_size, background_color)\n",
    "    draw = ImageDraw.Draw(image)\n",
    "\n",
    "    # Randomly geneate the parameters to draw the circle in the empty image \n",
    "    size = (random.randint(50, 100), random.randint(50, 100))\n",
    "    position = (random.randint(0, image_size[0] - size[0]), random.randint(0, image_size[1] - size[1]))\n",
    "    color = tuple(random.randint(0, 255) for _ in range(3))\n",
    "\n",
    "    draw.rectangle([position, (position[0]+size[0], position[1]+size[1])], color)\n",
    "    image.save(os.path.join(imageRectangle, f'rectangleimage{i}.png'))"
   ]
  },
  {
   "cell_type": "code",
   "execution_count": 6,
   "metadata": {},
   "outputs": [],
   "source": [
    "def MakeTriangle(i):\n",
    "    image = Image.new('RGB', image_size, background_color)\n",
    "    draw = ImageDraw.Draw(image)\n",
    "\n",
    "    # Randomly geneate the parameters to draw the circle in the empty image \n",
    "    size = [tuple(random.randint(50, 100) for _ in range(2)), tuple(random.randint(150,200) for _ in range(2)), tuple(random.randint(100, 200) for _ in range(2))]\n",
    "    color = tuple(random.randint(0, 255) for _ in range(3))\n",
    "\n",
    "    draw.polygon(size, outline=color, fill=color)\n",
    "    image.save(os.path.join(imageTriangle, f'triangleimage{i}.png'))"
   ]
  },
  {
   "cell_type": "code",
   "execution_count": 7,
   "metadata": {},
   "outputs": [],
   "source": [
    "# Making a dataset of 100 images\n",
    "circle = 0\n",
    "rectangle = 0\n",
    "triangle = 0\n",
    "\n",
    "for i in range(100):\n",
    "    shape = random.randint(1, 3)\n",
    "    if shape==1:\n",
    "        MakeCircle(circle)\n",
    "        circle+=1\n",
    "    elif shape==2:\n",
    "        MakeRectangle(rectangle)\n",
    "        rectangle+=1\n",
    "    elif shape==3:\n",
    "        MakeTriangle(triangle)\n",
    "        triangle+=1\n"
   ]
  },
  {
   "cell_type": "code",
   "execution_count": 8,
   "metadata": {},
   "outputs": [
    {
     "name": "stdout",
     "output_type": "stream",
     "text": [
      "34 33 33\n"
     ]
    }
   ],
   "source": [
    "print(circle, rectangle, triangle)"
   ]
  },
  {
   "cell_type": "code",
   "execution_count": 27,
   "metadata": {},
   "outputs": [],
   "source": [
    "# Create the Masking Method for the images\n",
    "def MaskImage(i, imagedir, maskdir, shape):\n",
    "    path = os.path.join(imagedir, f'{shape}image{i}.png')\n",
    "    image = cv2.imread(path)\n",
    "\n",
    "    gray_image = cv2.cvtColor(image, cv2.COLOR_BGR2GRAY)\n",
    "    size = gray_image.shape\n",
    "\n",
    "    for j in range(size[0]):\n",
    "        for k in range(size[1]):\n",
    "            if gray_image[k, j]!=255:\n",
    "                gray_image[k,j] = 0\n",
    "\n",
    "    save_path = os.path.join(maskdir, f'{shape}image{i}_mask.png')\n",
    "    cv2.imwrite(save_path, gray_image)"
   ]
  },
  {
   "cell_type": "code",
   "execution_count": 30,
   "metadata": {},
   "outputs": [],
   "source": [
    "for i in range(circle):\n",
    "    imagedir = '/Users/kshitijvaidya/Desktop/VirtualEnvironment/ProSpaceAssignment/Dataset/ImageDataset/Circle'\n",
    "    maskdir = '/Users/kshitijvaidya/Desktop/VirtualEnvironment/ProSpaceAssignment/Dataset/MaskDataset/Circle'\n",
    "\n",
    "    MaskImage(i, imagedir, maskdir, 'circle')"
   ]
  },
  {
   "cell_type": "code",
   "execution_count": 31,
   "metadata": {},
   "outputs": [],
   "source": [
    "for i in range(rectangle):\n",
    "    imagedir = '/Users/kshitijvaidya/Desktop/VirtualEnvironment/ProSpaceAssignment/Dataset/ImageDataset/Rectangle'\n",
    "    maskdir = '/Users/kshitijvaidya/Desktop/VirtualEnvironment/ProSpaceAssignment/Dataset/MaskDataset/Rectangle'\n",
    "\n",
    "    MaskImage(i, imagedir, maskdir, 'rectangle')"
   ]
  },
  {
   "cell_type": "code",
   "execution_count": 32,
   "metadata": {},
   "outputs": [],
   "source": [
    "for i in range(triangle):\n",
    "    imagedir = '/Users/kshitijvaidya/Desktop/VirtualEnvironment/ProSpaceAssignment/Dataset/ImageDataset/Triangle'\n",
    "    maskdir = '/Users/kshitijvaidya/Desktop/VirtualEnvironment/ProSpaceAssignment/Dataset/MaskDataset/Triangle'\n",
    "\n",
    "    MaskImage(i, imagedir, maskdir, 'triangle')"
   ]
  },
  {
   "cell_type": "code",
   "execution_count": null,
   "metadata": {},
   "outputs": [],
   "source": []
  }
 ],
 "metadata": {
  "kernelspec": {
   "display_name": "newenv",
   "language": "python",
   "name": "python3"
  },
  "language_info": {
   "codemirror_mode": {
    "name": "ipython",
    "version": 3
   },
   "file_extension": ".py",
   "mimetype": "text/x-python",
   "name": "python",
   "nbconvert_exporter": "python",
   "pygments_lexer": "ipython3",
   "version": "3.11.6"
  }
 },
 "nbformat": 4,
 "nbformat_minor": 2
}
